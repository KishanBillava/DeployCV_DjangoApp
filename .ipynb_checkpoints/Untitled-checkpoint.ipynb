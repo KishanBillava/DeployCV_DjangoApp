{
 "cells": [
  {
   "cell_type": "code",
   "execution_count": 1,
   "id": "e284af9a-459c-476b-9eb6-775fc0961356",
   "metadata": {},
   "outputs": [],
   "source": [
    "import numpy as np"
   ]
  },
  {
   "cell_type": "code",
   "execution_count": null,
   "id": "e846c775-6c6f-46b8-a7ea-b22fa520d511",
   "metadata": {},
   "outputs": [],
   "source": [
    "tf.keras.utils.load_img( path, grayscale=False, \n",
    "                        color_mode='rgb', \n",
    "                        target_size=None, \n",
    "                        interpolation='nearest')\n",
    "\n",
    "# target_size\n",
    "# Either None (default to original size) \n",
    "# or tuple of ints (img_height, img_width)."
   ]
  },
  {
   "cell_type": "code",
   "execution_count": 3,
   "id": "9cb3a48a-0442-441f-93cb-5935fae9c87f",
   "metadata": {},
   "outputs": [
    {
     "name": "stdout",
     "output_type": "stream",
     "text": [
      "[1 2]\n",
      "(2,)\n"
     ]
    }
   ],
   "source": [
    "x = np.array([1, 2])\n",
    "print(x)\n",
    "print(x.shape)"
   ]
  },
  {
   "cell_type": "code",
   "execution_count": 5,
   "id": "c80aef21-be05-42fe-ae14-1a9f3cc8f1fb",
   "metadata": {},
   "outputs": [
    {
     "name": "stdout",
     "output_type": "stream",
     "text": [
      "[[1 2]]\n",
      "(1, 2)\n"
     ]
    }
   ],
   "source": [
    "# numpy.expand_dims(a, axis)\n",
    "y = np.expand_dims(x, axis=0)\n",
    "print(y)\n",
    "print(y.shape)"
   ]
  },
  {
   "cell_type": "code",
   "execution_count": null,
   "id": "9ef6d833-6871-4806-8640-5aece166b4c3",
   "metadata": {},
   "outputs": [],
   "source": [
    "# Preprocesses a tensor or Numpy array encoding a batch of images.\n",
    "tf.keras.applications.vgg16.preprocess_input(\n",
    "    x, data_format=None\n",
    ")"
   ]
  },
  {
   "cell_type": "code",
   "execution_count": 6,
   "id": "de9cbba7-d5d9-43af-8460-2ed3f6a238f6",
   "metadata": {},
   "outputs": [],
   "source": [
    "# json.load(file_object)"
   ]
  },
  {
   "cell_type": "code",
   "execution_count": 17,
   "id": "531f87ba-5f39-442e-a9c7-fdb436faea05",
   "metadata": {},
   "outputs": [
    {
     "name": "stdout",
     "output_type": "stream",
     "text": [
      "[[3 1 2 4 7 9 8 6]]\n",
      "here 3 is at index 0\n",
      "[[1 2 0 3 7 4 6 5]]\n",
      "this is sorted\n",
      "[[1 2 3 4 6 7 8 9]]\n",
      "(1, 8)\n",
      "-------------------------\n",
      "i :  [3 1 2 4 7 9 8 6]\n",
      "x1 :  [5 6 4]\n"
     ]
    }
   ],
   "source": [
    "x = np.array([[3, 1, 2,4,7,9,8,6]])\n",
    "x1 = np.argsort(x)\n",
    "print(x)\n",
    "print('here 3 is at index 0')\n",
    "print(x1)\n",
    "print('this is sorted')\n",
    "print(x[0][x1])\n",
    "\n",
    "print(x.shape)\n",
    "print(\"-------------------------\")\n",
    "for i in x:\n",
    "    print(\"i : \", i)\n",
    "    x1 = i.argsort()[-3:][::-1]\n",
    "    print(\"x1 : \",x1)\n",
    "    \n",
    "    "
   ]
  },
  {
   "cell_type": "code",
   "execution_count": null,
   "id": "12f9465f-cc64-4d7b-9041-d6babec166c4",
   "metadata": {},
   "outputs": [],
   "source": []
  },
  {
   "cell_type": "code",
   "execution_count": 51,
   "id": "dc3abe85-2190-47a5-930f-8223e3957e79",
   "metadata": {},
   "outputs": [],
   "source": [
    "#"
   ]
  },
  {
   "cell_type": "code",
   "execution_count": 11,
   "id": "7650a20c-cbc7-45a7-95ba-66718df5c664",
   "metadata": {},
   "outputs": [
    {
     "name": "stdout",
     "output_type": "stream",
     "text": [
      "Input unsorted array :  [2 0 1 5 4 1 9]\n",
      "Output sorted array indices :  [1 2 5 0 4 3 6]\n",
      "Output sorted array :  [0 1 1 2 4 5 9]\n"
     ]
    }
   ],
   "source": [
    "# input array\n",
    "in_arr = np.array([ 2, 0,  1, 5, 4, 1, 9])\n",
    "print (\"Input unsorted array : \", in_arr) \n",
    "  \n",
    "out_arr = np.argsort(in_arr)\n",
    "print (\"Output sorted array indices : \", out_arr)\n",
    "print(\"Output sorted array : \", in_arr[out_arr])"
   ]
  },
  {
   "cell_type": "code",
   "execution_count": 20,
   "id": "def46132-b621-452b-b0ba-0220de81e3aa",
   "metadata": {},
   "outputs": [],
   "source": [
    "for a in in_arr:\n",
    "    # Here we have index of top 5 \n",
    "    top_indices = a.argsort()#[-5:][::-1]"
   ]
  },
  {
   "cell_type": "code",
   "execution_count": 21,
   "id": "cbcae601-deaf-4016-a76c-3f13e8ad5c46",
   "metadata": {},
   "outputs": [
    {
     "data": {
      "text/plain": [
       "array([0])"
      ]
     },
     "execution_count": 21,
     "metadata": {},
     "output_type": "execute_result"
    }
   ],
   "source": [
    "top_indices"
   ]
  },
  {
   "cell_type": "code",
   "execution_count": null,
   "id": "9f64ada3-b49a-44c6-a2e8-a2b272b48a87",
   "metadata": {},
   "outputs": [],
   "source": [
    "#"
   ]
  },
  {
   "cell_type": "code",
   "execution_count": 43,
   "id": "c24f546c-a024-4d51-88b6-746d755e1193",
   "metadata": {},
   "outputs": [],
   "source": [
    "d = np.array([[3, 1, 2, 4, 7, 9, 8, 6]])"
   ]
  },
  {
   "cell_type": "code",
   "execution_count": 47,
   "id": "98a9a80b-8a3f-42b1-8c00-f679c9d989da",
   "metadata": {},
   "outputs": [
    {
     "data": {
      "text/plain": [
       "3"
      ]
     },
     "execution_count": 47,
     "metadata": {},
     "output_type": "execute_result"
    }
   ],
   "source": [
    "d[0][0]"
   ]
  },
  {
   "cell_type": "code",
   "execution_count": 50,
   "id": "aeac4706-c6b7-4ec3-8beb-98a241964a50",
   "metadata": {},
   "outputs": [
    {
     "data": {
      "text/plain": [
       "(1, 8)"
      ]
     },
     "execution_count": 50,
     "metadata": {},
     "output_type": "execute_result"
    }
   ],
   "source": [
    "d.shape"
   ]
  },
  {
   "cell_type": "code",
   "execution_count": null,
   "id": "b9beb852-277d-4be3-9b2e-e15044b6021b",
   "metadata": {},
   "outputs": [],
   "source": [
    "#"
   ]
  },
  {
   "cell_type": "code",
   "execution_count": 56,
   "id": "d18ebedb-846b-4e91-b5ad-d75aa9f2689e",
   "metadata": {},
   "outputs": [],
   "source": [
    "#"
   ]
  },
  {
   "cell_type": "code",
   "execution_count": 55,
   "id": "9429ef4b-58a1-4d27-b6c4-f01c315cc14a",
   "metadata": {},
   "outputs": [
    {
     "data": {
      "text/plain": [
       "0.2752038"
      ]
     },
     "execution_count": 55,
     "metadata": {},
     "output_type": "execute_result"
    }
   ],
   "source": [
    "x = ['n02814533', 'beach_wagon', 0.2752038]\n",
    "\n",
    "lambda_cube = lambda x : x[2]\n",
    "\n",
    "lambda_cube(x)"
   ]
  },
  {
   "cell_type": "code",
   "execution_count": null,
   "id": "b7824eca-b651-428c-bfce-6b28d955ed43",
   "metadata": {},
   "outputs": [],
   "source": []
  },
  {
   "cell_type": "code",
   "execution_count": 18,
   "id": "78ffeedc-aa32-44a3-ba6c-8a1877c46025",
   "metadata": {},
   "outputs": [
    {
     "name": "stdout",
     "output_type": "stream",
     "text": [
      "125\n",
      "125\n"
     ]
    }
   ],
   "source": [
    "def cube(y):\n",
    "    return y*y*y\n",
    " \n",
    "lambda_cube = lambda y: y*y*y\n",
    " \n",
    "# using the normally\n",
    "# defined function\n",
    "print(cube(5))\n",
    " \n",
    "# using the lambda function\n",
    "print(lambda_cube(5))"
   ]
  },
  {
   "cell_type": "code",
   "execution_count": 57,
   "id": "20b10b89-4e1c-4dc3-af1f-d31f0c8c3519",
   "metadata": {},
   "outputs": [],
   "source": [
    "#"
   ]
  },
  {
   "cell_type": "code",
   "execution_count": 58,
   "id": "9d46181a-4086-4648-91fd-33ce2a093824",
   "metadata": {},
   "outputs": [
    {
     "name": "stdout",
     "output_type": "stream",
     "text": [
      "1\n",
      "2\n",
      "Not Present\n"
     ]
    }
   ],
   "source": [
    "from collections import defaultdict\n",
    " \n",
    " \n",
    "# Function to return a default\n",
    "# values for keys that is not\n",
    "# present\n",
    "def def_value():\n",
    "    return \"Not Present\"\n",
    "     \n",
    "# Defining the dict\n",
    "d = defaultdict(def_value)\n",
    "d[\"a\"] = 1\n",
    "d[\"b\"] = 2\n",
    " \n",
    "print(d[\"a\"])\n",
    "print(d[\"b\"])\n",
    "print(d[\"c\"])"
   ]
  },
  {
   "cell_type": "code",
   "execution_count": null,
   "id": "e0577f48-b74a-482f-9d72-12007d35cc08",
   "metadata": {},
   "outputs": [],
   "source": []
  }
 ],
 "metadata": {
  "kernelspec": {
   "display_name": "Python 3 (ipykernel)",
   "language": "python",
   "name": "python3"
  },
  "language_info": {
   "codemirror_mode": {
    "name": "ipython",
    "version": 3
   },
   "file_extension": ".py",
   "mimetype": "text/x-python",
   "name": "python",
   "nbconvert_exporter": "python",
   "pygments_lexer": "ipython3",
   "version": "3.9.6"
  }
 },
 "nbformat": 4,
 "nbformat_minor": 5
}
