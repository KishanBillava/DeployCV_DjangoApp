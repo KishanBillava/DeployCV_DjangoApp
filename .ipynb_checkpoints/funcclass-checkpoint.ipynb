{
 "cells": [
  {
   "cell_type": "code",
   "execution_count": 7,
   "id": "f4f2d3f0-0da3-483e-a8f4-3b853f8882ef",
   "metadata": {},
   "outputs": [],
   "source": [
    "#"
   ]
  },
  {
   "cell_type": "code",
   "execution_count": 8,
   "id": "6187acb1-550d-4e16-8af8-478d1abd2f96",
   "metadata": {},
   "outputs": [],
   "source": [
    "import numpy as np\n",
    "import matplotlib.pyplot as plt"
   ]
  },
  {
   "cell_type": "code",
   "execution_count": 9,
   "id": "634a0a64-8716-431f-971e-1632c46db823",
   "metadata": {},
   "outputs": [],
   "source": [
    "X = np.random.randn(10)"
   ]
  },
  {
   "cell_type": "code",
   "execution_count": 10,
   "id": "b4833314-0500-49a1-a934-3b8523773d75",
   "metadata": {},
   "outputs": [
    {
     "data": {
      "text/plain": [
       "array([ 0.14481042, -1.40249209, -1.30601697,  0.01123056,  0.39955239,\n",
       "        0.84125165,  0.28961636,  0.82389381, -0.46718338, -0.62631222])"
      ]
     },
     "execution_count": 10,
     "metadata": {},
     "output_type": "execute_result"
    }
   ],
   "source": [
    "X"
   ]
  },
  {
   "cell_type": "code",
   "execution_count": 11,
   "id": "d3378fc2-4ace-49cc-9425-1f33bc74764b",
   "metadata": {},
   "outputs": [],
   "source": [
    "def simple(x):\n",
    "    return (4*x + 5)"
   ]
  },
  {
   "cell_type": "code",
   "execution_count": 14,
   "id": "68e21eb9-4d0a-4478-b803-b8921eaaca58",
   "metadata": {},
   "outputs": [],
   "source": [
    "Y = simple(X)"
   ]
  },
  {
   "cell_type": "code",
   "execution_count": 15,
   "id": "be2bd6a3-38f4-43a9-8bdd-b77c7b5d1b75",
   "metadata": {},
   "outputs": [
    {
     "data": {
      "text/plain": [
       "array([ 5.57924167, -0.60996837, -0.22406787,  5.04492226,  6.59820957,\n",
       "        8.3650066 ,  6.15846544,  8.29557524,  3.13126648,  2.49475112])"
      ]
     },
     "execution_count": 15,
     "metadata": {},
     "output_type": "execute_result"
    }
   ],
   "source": [
    "Y"
   ]
  },
  {
   "cell_type": "code",
   "execution_count": null,
   "id": "f3f1729f-1bce-4c8d-963a-3a3594960365",
   "metadata": {},
   "outputs": [],
   "source": []
  }
 ],
 "metadata": {
  "kernelspec": {
   "display_name": "Python 3 (ipykernel)",
   "language": "python",
   "name": "python3"
  },
  "language_info": {
   "codemirror_mode": {
    "name": "ipython",
    "version": 3
   },
   "file_extension": ".py",
   "mimetype": "text/x-python",
   "name": "python",
   "nbconvert_exporter": "python",
   "pygments_lexer": "ipython3",
   "version": "3.9.6"
  }
 },
 "nbformat": 4,
 "nbformat_minor": 5
}
