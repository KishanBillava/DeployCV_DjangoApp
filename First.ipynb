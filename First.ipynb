{
 "cells": [
  {
   "cell_type": "code",
   "execution_count": 1,
   "id": "73a0b1cd-0c05-41fa-8069-4350e9ebb917",
   "metadata": {},
   "outputs": [],
   "source": [
    "import numpy as np\n",
    "import json \n",
    "\n",
    "from keras.applications.vgg16 import VGG16\n",
    "from keras.preprocessing.image import img_to_array, load_img\n",
    "from keras.applications.imagenet_utils import preprocess_input"
   ]
  },
  {
   "cell_type": "code",
   "execution_count": 57,
   "id": "20ae64dd-c6d8-4d65-b58b-d39d0584cb7c",
   "metadata": {},
   "outputs": [],
   "source": [
    "from collections import Counter, defaultdict\n",
    "import os"
   ]
  },
  {
   "cell_type": "code",
   "execution_count": 2,
   "id": "0c679599-9a44-41c5-892d-56e89e6ca482",
   "metadata": {},
   "outputs": [
    {
     "name": "stderr",
     "output_type": "stream",
     "text": [
      "2021-09-29 08:19:50.795551: I tensorflow/compiler/jit/xla_cpu_device.cc:41] Not creating XLA devices, tf_xla_enable_xla_devices not set\n",
      "2021-09-29 08:19:50.888214: I tensorflow/core/platform/cpu_feature_guard.cc:142] This TensorFlow binary is optimized with oneAPI Deep Neural Network Library (oneDNN) to use the following CPU instructions in performance-critical operations:  SSE4.1 SSE4.2 AVX AVX2 FMA\n",
      "To enable them in other operations, rebuild TensorFlow with the appropriate compiler flags.\n",
      "2021-09-29 08:19:50.967891: I tensorflow/core/common_runtime/process_util.cc:146] Creating new thread pool with default inter op setting: 2. Tune using inter_op_parallelism_threads for best performance.\n"
     ]
    }
   ],
   "source": [
    "# upload VGG16\n",
    "vgg16 = VGG16(weights='imagenet')"
   ]
  },
  {
   "cell_type": "code",
   "execution_count": 3,
   "id": "4e5b0095-59f3-4a78-bfa7-c4761453f2d3",
   "metadata": {},
   "outputs": [],
   "source": [
    "vgg16.save('vgg16.h5')"
   ]
  },
  {
   "cell_type": "code",
   "execution_count": 5,
   "id": "f948f727-4a07-4374-af2a-10867bbca4d1",
   "metadata": {},
   "outputs": [],
   "source": [
    "#"
   ]
  },
  {
   "cell_type": "code",
   "execution_count": 6,
   "id": "2618f602-71f7-41e3-9720-af26bd73d7c2",
   "metadata": {},
   "outputs": [],
   "source": [
    "# preparing the image that can be feed to vgg16 \n",
    "#\n",
    "def prepare_image(img_path):\n",
    "    img = load_img(img_path, target_size=(224,224))\n",
    "    # Here 224 is the image size that the vgg16 is expecting\n",
    "    x = img_to_array(img) # convert image to array \n",
    "    x = np.expand_dims(x, axis=0) \n",
    "    # In order to create a batch of images, \n",
    "    # you need an additional dimension: (samples, size1,size2,channels)\n",
    "    x = preprocess_input(x)\n",
    "    # adequate your image to the format the model requires.\n",
    "    return x "
   ]
  },
  {
   "cell_type": "code",
   "execution_count": 7,
   "id": "7aab372e-5ca7-45ab-9b56-0636d461757a",
   "metadata": {},
   "outputs": [
    {
     "data": {
      "text/plain": [
       "(1, 224, 224, 3)"
      ]
     },
     "execution_count": 7,
     "metadata": {},
     "output_type": "execute_result"
    }
   ],
   "source": [
    "y = prepare_image(\"Data/toyotaCar1.jpg\")\n",
    "y.shape\n",
    "# here y is prepared output image that can be fees to vgg16"
   ]
  },
  {
   "cell_type": "code",
   "execution_count": 8,
   "id": "a8e37124-251a-4138-92b0-309ff49f6d69",
   "metadata": {},
   "outputs": [
    {
     "name": "stderr",
     "output_type": "stream",
     "text": [
      "2021-09-29 08:22:49.237860: I tensorflow/compiler/mlir/mlir_graph_optimization_pass.cc:116] None of the MLIR optimization passes are enabled (registered 2)\n",
      "2021-09-29 08:22:49.343155: I tensorflow/core/platform/profile_utils/cpu_utils.cc:112] CPU Frequency: 2400000000 Hz\n"
     ]
    },
    {
     "data": {
      "text/plain": [
       "(1, 1000)"
      ]
     },
     "execution_count": 8,
     "metadata": {},
     "output_type": "execute_result"
    }
   ],
   "source": [
    "preds = vgg16.predict(y)\n",
    "# here we are asking vgg16 to predict, which is trained on imagenet \n",
    "# therefore we have 1000 prediction probablity  \n",
    "# for 1000 difference images class or index\n",
    "# probablity is for each index\n",
    "preds.shape"
   ]
  },
  {
   "cell_type": "code",
   "execution_count": 9,
   "id": "708687ef-b4fc-479e-9a48-b2b25c6a7b1c",
   "metadata": {},
   "outputs": [],
   "source": [
    "# preds"
   ]
  },
  {
   "cell_type": "code",
   "execution_count": 10,
   "id": "5287b1ac-4990-454a-8479-e88a8b8fc884",
   "metadata": {},
   "outputs": [],
   "source": [
    "CLASS_INDEX = None\n",
    "# Here we are loading the imagenet class index of 1000 iamge class\n",
    "CLASS_INDEX_PATH = \"Data/imagenet_class_index.json\""
   ]
  },
  {
   "cell_type": "code",
   "execution_count": 54,
   "id": "8fc77121-a563-4b42-838f-7cb36d86fb70",
   "metadata": {},
   "outputs": [],
   "source": [
    "# find the top 5 prediction made \n",
    "# this will match the prediction with the imagenet_class_index.json file\n",
    "def get_predictions(preds, top=5):\n",
    "    global CLASS_INDEX\n",
    "    #load the jason file\n",
    "    CLASS_INDEX = json.load(open(CLASS_INDEX_PATH))\n",
    "    # get the results\n",
    "    results = []\n",
    "    for pred in preds:\n",
    "        # take the last top 5 sorted index which have highest value\n",
    "        top_indices = pred.argsort()[-top:][::-1]\n",
    "        # creates tuple of last top 5 sorted prediction and its imagenet_class_index\n",
    "        result = [tuple(CLASS_INDEX[str(i)])+(pred[i],) for i in top_indices]\n",
    "        # take top 5 elements and output the last value at index[2]\n",
    "        result.sort(key=lambda x : x[2], reverse=True)\n",
    "        results.append(result)\n",
    "    return results"
   ]
  },
  {
   "cell_type": "code",
   "execution_count": 56,
   "id": "861f0181-42bb-4ed3-9dd0-7a3a8c181149",
   "metadata": {},
   "outputs": [
    {
     "name": "stdout",
     "output_type": "stream",
     "text": [
      "[[('n02814533', 'beach_wagon', 0.2752038), ('n04285008', 'sports_car', 0.23623085), ('n02974003', 'car_wheel', 0.2011139), ('n03930630', 'pickup', 0.1662285), ('n03459775', 'grille', 0.042428244)]]\n"
     ]
    }
   ],
   "source": [
    "print(get_predictions(preds,top=5))"
   ]
  },
  {
   "cell_type": "code",
   "execution_count": 59,
   "id": "fe232a61-bde8-4a92-a863-569cc40d8138",
   "metadata": {},
   "outputs": [],
   "source": [
    "#"
   ]
  },
  {
   "cell_type": "code",
   "execution_count": null,
   "id": "a48d23cf-dc89-4ae1-84ce-55505e7dd97d",
   "metadata": {},
   "outputs": [],
   "source": [
    "def get_car_categories():\n",
    "    d = defaultdict(float)\n",
    "    img_list = os.listdir()"
   ]
  }
 ],
 "metadata": {
  "kernelspec": {
   "display_name": "Python 3 (ipykernel)",
   "language": "python",
   "name": "python3"
  },
  "language_info": {
   "codemirror_mode": {
    "name": "ipython",
    "version": 3
   },
   "file_extension": ".py",
   "mimetype": "text/x-python",
   "name": "python",
   "nbconvert_exporter": "python",
   "pygments_lexer": "ipython3",
   "version": "3.9.6"
  }
 },
 "nbformat": 4,
 "nbformat_minor": 5
}
