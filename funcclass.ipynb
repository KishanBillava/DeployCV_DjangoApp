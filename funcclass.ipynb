{
 "cells": [
  {
   "cell_type": "code",
   "execution_count": 7,
   "id": "f4f2d3f0-0da3-483e-a8f4-3b853f8882ef",
   "metadata": {},
   "outputs": [],
   "source": [
    "#"
   ]
  },
  {
   "cell_type": "code",
   "execution_count": 9,
   "id": "6187acb1-550d-4e16-8af8-478d1abd2f96",
   "metadata": {},
   "outputs": [],
   "source": [
    "import numpy as np\n",
    "import matplotlib.pyplot as plt\n",
    "from collections import Counter"
   ]
  },
  {
   "cell_type": "code",
   "execution_count": 9,
   "id": "634a0a64-8716-431f-971e-1632c46db823",
   "metadata": {},
   "outputs": [],
   "source": [
    "X = np.random.randn(10)"
   ]
  },
  {
   "cell_type": "code",
   "execution_count": 10,
   "id": "b4833314-0500-49a1-a934-3b8523773d75",
   "metadata": {},
   "outputs": [
    {
     "data": {
      "text/plain": [
       "array([ 0.14481042, -1.40249209, -1.30601697,  0.01123056,  0.39955239,\n",
       "        0.84125165,  0.28961636,  0.82389381, -0.46718338, -0.62631222])"
      ]
     },
     "execution_count": 10,
     "metadata": {},
     "output_type": "execute_result"
    }
   ],
   "source": [
    "X"
   ]
  },
  {
   "cell_type": "code",
   "execution_count": 11,
   "id": "d3378fc2-4ace-49cc-9425-1f33bc74764b",
   "metadata": {},
   "outputs": [],
   "source": [
    "def simple(x):\n",
    "    return (4*x + 5)"
   ]
  },
  {
   "cell_type": "code",
   "execution_count": 14,
   "id": "68e21eb9-4d0a-4478-b803-b8921eaaca58",
   "metadata": {},
   "outputs": [],
   "source": [
    "Y = simple(X)"
   ]
  },
  {
   "cell_type": "code",
   "execution_count": 15,
   "id": "be2bd6a3-38f4-43a9-8bdd-b77c7b5d1b75",
   "metadata": {},
   "outputs": [
    {
     "data": {
      "text/plain": [
       "array([ 5.57924167, -0.60996837, -0.22406787,  5.04492226,  6.59820957,\n",
       "        8.3650066 ,  6.15846544,  8.29557524,  3.13126648,  2.49475112])"
      ]
     },
     "execution_count": 15,
     "metadata": {},
     "output_type": "execute_result"
    }
   ],
   "source": [
    "Y"
   ]
  },
  {
   "cell_type": "code",
   "execution_count": 16,
   "id": "f3f1729f-1bce-4c8d-963a-3a3594960365",
   "metadata": {},
   "outputs": [
    {
     "data": {
      "text/plain": [
       "[<matplotlib.lines.Line2D at 0x7f0ec3083850>]"
      ]
     },
     "execution_count": 16,
     "metadata": {},
     "output_type": "execute_result"
    },
    {
     "data": {
      "image/png": "[encoded data removed]",
      "text/plain": [
       "<Figure size 432x288 with 1 Axes>"
      ]
     },
     "metadata": {
      "needs_background": "light"
     },
     "output_type": "display_data"
    }
   ],
   "source": [
    "plt.plot(X,Y)"
   ]
  },
  {
   "cell_type": "code",
   "execution_count": 17,
   "id": "36514a2d-7979-40fd-91cf-e8002a317b3c",
   "metadata": {},
   "outputs": [],
   "source": [
    "class electroic():\n",
    "    def __init__(self, brand, color):\n",
    "        self.brand = brand\n",
    "        self.color  = color \n",
    "    def whoami(self):\n",
    "        print(\"I am mobile \")"
   ]
  },
  {
   "cell_type": "code",
   "execution_count": 18,
   "id": "378057e6-a6f0-4857-b2b7-17a87b9c0458",
   "metadata": {},
   "outputs": [],
   "source": [
    "a = electroic('nokia', 'blue')"
   ]
  },
  {
   "cell_type": "code",
   "execution_count": 20,
   "id": "7423982d-3f08-401e-abdd-66eefc6b1e3c",
   "metadata": {},
   "outputs": [
    {
     "data": {
      "text/plain": [
       "'nokia'"
      ]
     },
     "execution_count": 20,
     "metadata": {},
     "output_type": "execute_result"
    }
   ],
   "source": [
    "a.brand"
   ]
  },
  {
   "cell_type": "code",
   "execution_count": 21,
   "id": "1bab5c82-c9f4-4036-824f-dc94f3fdcc24",
   "metadata": {},
   "outputs": [
    {
     "data": {
      "text/plain": [
       "'blue'"
      ]
     },
     "execution_count": 21,
     "metadata": {},
     "output_type": "execute_result"
    }
   ],
   "source": [
    "a.color"
   ]
  },
  {
   "cell_type": "code",
   "execution_count": 22,
   "id": "f7710b1d-9fb3-4c5a-8289-514657592895",
   "metadata": {},
   "outputs": [
    {
     "name": "stdout",
     "output_type": "stream",
     "text": [
      "I am mobile \n"
     ]
    }
   ],
   "source": [
    "a.whoami()"
   ]
  },
  {
   "cell_type": "code",
   "execution_count": 16,
   "id": "a2e1079c-f771-4f8e-953c-f6c0c725f209",
   "metadata": {},
   "outputs": [],
   "source": [
    "#"
   ]
  },
  {
   "cell_type": "code",
   "execution_count": 19,
   "id": "01f976d2-316c-481c-a063-21c50d926f55",
   "metadata": {},
   "outputs": [],
   "source": [
    "#"
   ]
  },
  {
   "cell_type": "code",
   "execution_count": null,
   "id": "dd5d663d-853f-40f8-8ece-e7eb70ce4ebe",
   "metadata": {},
   "outputs": [],
   "source": []
  }
 ],
 "metadata": {
  "kernelspec": {
   "display_name": "Python 3 (ipykernel)",
   "language": "python",
   "name": "python3"
  },
  "language_info": {
   "codemirror_mode": {
    "name": "ipython",
    "version": 3
   },
   "file_extension": ".py",
   "mimetype": "text/x-python",
   "name": "python",
   "nbconvert_exporter": "python",
   "pygments_lexer": "ipython3",
   "version": "3.9.6"
  }
 },
 "nbformat": 4,
 "nbformat_minor": 5
}
